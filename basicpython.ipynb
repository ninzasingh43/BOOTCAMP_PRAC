{
 "cells": [
  {
   "cell_type": "code",
   "execution_count": 1,
   "id": "76f81b2f-d65f-48a9-ae58-ca5b84e8e178",
   "metadata": {},
   "outputs": [
    {
     "name": "stdin",
     "output_type": "stream",
     "text": [
      "Enter first numbers:  4\n",
      "Enter second numbers:  5\n"
     ]
    },
    {
     "name": "stdout",
     "output_type": "stream",
     "text": [
      "The sum of 4.0 and 5.0 is: 9.0\n"
     ]
    }
   ],
   "source": [
    "# basic Python script to run in Anaconda\n",
    "\n",
    "# Function to add two numbers\n",
    "def add_numbers(num1, num2):\n",
    "    return num1 + num2\n",
    "\n",
    "# Main function\n",
    "if __name__ == \"__main__\":\n",
    "    # Input two numbers\n",
    "    number1 = float(input(\"Enter first numbers: \"))\n",
    "    number2 = float(input(\"Enter second numbers: \"))\n",
    "    \n",
    "    # Calculate sum\n",
    "    result = add_numbers(number1, number2)\n",
    "    \n",
    "    # Output the result\n",
    "    print(f\"The sum of {number1} and {number2} is: {result}\")\n"
   ]
  },
  {
   "cell_type": "code",
   "execution_count": null,
   "id": "c43e9903-524c-4db0-be10-c36b3d919914",
   "metadata": {},
   "outputs": [],
   "source": []
  }
 ],
 "metadata": {
  "kernelspec": {
   "display_name": "Python 3 (ipykernel)",
   "language": "python",
   "name": "python3"
  },
  "language_info": {
   "codemirror_mode": {
    "name": "ipython",
    "version": 3
   },
   "file_extension": ".py",
   "mimetype": "text/x-python",
   "name": "python",
   "nbconvert_exporter": "python",
   "pygments_lexer": "ipython3",
   "version": "3.12.6"
  }
 },
 "nbformat": 4,
 "nbformat_minor": 5
}
